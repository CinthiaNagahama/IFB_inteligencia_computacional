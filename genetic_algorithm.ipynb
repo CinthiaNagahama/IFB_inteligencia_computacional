{
  "nbformat": 4,
  "nbformat_minor": 0,
  "metadata": {
    "colab": {
      "name": "genetic_algorithm.ipynb",
      "provenance": [],
      "collapsed_sections": [],
      "authorship_tag": "ABX9TyP6QezPQE+ER7QW6EzI1zfS"
    },
    "kernelspec": {
      "name": "python3",
      "display_name": "Python 3"
    },
    "language_info": {
      "name": "python"
    }
  },
  "cells": [
    {
      "cell_type": "markdown",
      "metadata": {
        "id": "dizB5e5xarMm"
      },
      "source": [
        "# Continuous Genetic Algorithm From Scratch With Python\n",
        "\n",
        "Code created by Cinthia Ungefehr based on tutorial by Cahit Bartu Yazıcı available on [Towards Data Science](https://towardsdatascience.com/continuous-genetic-algorithm-from-scratch-with-python-ff29deedd099)"
      ]
    },
    {
      "cell_type": "markdown",
      "metadata": {
        "id": "O2jeGEwbcud6"
      },
      "source": [
        "## Imports"
      ]
    },
    {
      "cell_type": "code",
      "metadata": {
        "id": "NxJCNcqpZXzo"
      },
      "source": [
        "import numpy as np\n",
        "import random as rand"
      ],
      "execution_count": 203,
      "outputs": []
    },
    {
      "cell_type": "markdown",
      "metadata": {
        "id": "bYLEYdx0cqlq"
      },
      "source": [
        "## Initial Population"
      ]
    },
    {
      "cell_type": "markdown",
      "metadata": {
        "id": "F28_QGowbAsB"
      },
      "source": [
        "First let's create a function that creates an individual. Each individual is defined by a number *n_genes* of genes, each gene is a random selected value \n",
        "between the *lower_limit* and the *upper_limit*."
      ]
    },
    {
      "cell_type": "code",
      "metadata": {
        "id": "Io8skcoEZscD"
      },
      "source": [
        "def create_individual(n_genes, upper_limit, lower_limit):\n",
        "  return [round(rand.random() * (upper_limit - lower_limit) + lower_limit, 1) for x in range(n_genes)]"
      ],
      "execution_count": 204,
      "outputs": []
    },
    {
      "cell_type": "markdown",
      "metadata": {
        "id": "KDyo-ejGcBYc"
      },
      "source": [
        "Now, let's create a function tha creates a population. A population is a group of indivuals, so let's do that."
      ]
    },
    {
      "cell_type": "code",
      "metadata": {
        "id": "iGcDo4FhcCrr"
      },
      "source": [
        "def create_population(n_individuals, n_genes, upper_limit, lower_limit):\n",
        "  return [create_individual(n_genes, upper_limit, lower_limit) for x in range(n_individuals)]"
      ],
      "execution_count": 205,
      "outputs": []
    },
    {
      "cell_type": "markdown",
      "metadata": {
        "id": "ygYyVbGwc51W"
      },
      "source": [
        "## Fitness Calculation"
      ]
    },
    {
      "cell_type": "markdown",
      "metadata": {
        "id": "TEWoVhKGc8hg"
      },
      "source": [
        "The Fitness calculation function calculates the fitness value of an individual.\n",
        "For simplicity, let's define the fitness calculation as the sum of the genes of the individual."
      ]
    },
    {
      "cell_type": "code",
      "metadata": {
        "id": "93qFuxBKdJvx"
      },
      "source": [
        "def fit_with_gene_sum(individual):\n",
        "  return sum(individual)"
      ],
      "execution_count": 206,
      "outputs": []
    },
    {
      "cell_type": "markdown",
      "metadata": {
        "id": "HYreId7NdwXK"
      },
      "source": [
        "Obs:\n",
        "> Fitness function can be calculated for **multiple parameters**. <br> For multiple parameters, **normalizing** the different parameters is very important, the difference in magnitude between different parameters may cause one of the parameters to become **obsolete** for the fitness function value. <br> Parameters can be optimized with different methods, one of the normalization methods is *rescaling*.\n",
        "\n",
        "Obs':\n",
        "> After the parameters are normalized, the importance of the parameters are determined by the **biases** given to each parameter in the fitness function. <br> Sum of the biases given to the parameters should be **1**."
      ]
    },
    {
      "cell_type": "markdown",
      "metadata": {
        "id": "x7pSF2V3dIHQ"
      },
      "source": [
        "## Selection"
      ]
    },
    {
      "cell_type": "markdown",
      "metadata": {
        "id": "-MIJMK-wfKs6"
      },
      "source": [
        "The Selection function takes the population of candidate solutions and their fitness values (a generation) and outputs the individuals that are going to be moving on to the next generation.\n",
        "\n",
        "**Elitism** can be introduced to the genetic algorithm, which will automatically select the best individual in a generation, so we do not lose the best solution."
      ]
    },
    {
      "cell_type": "markdown",
      "metadata": {
        "id": "-7MLiZGuf9Eb"
      },
      "source": [
        "* Roulette wheel selection : each individual has a chance to be selected. The chance of an individual to be selected is based on the fitness value of the individual. Fitter individuals have a higher chance to be selected."
      ]
    },
    {
      "cell_type": "code",
      "metadata": {
        "id": "PyeX5HPcdntf"
      },
      "source": [
        "def roulette(individuals_sum, chance):\n",
        "  individuals = list(individuals_sum.copy())\n",
        "  individuals.append(chance)\n",
        "  individuals = sorted(individuals)\n",
        "  return individuals(chance)"
      ],
      "execution_count": 207,
      "outputs": []
    },
    {
      "cell_type": "markdown",
      "metadata": {
        "id": "THdxBt38ha3f"
      },
      "source": [
        "* Fittest half selection : the fittest half of the candidate solutions are selected to move to the next generation.\n",
        "* Random Selection : the individuals are selected randomly."
      ]
    },
    {
      "cell_type": "markdown",
      "metadata": {
        "id": "VtHgBv4ziFjU"
      },
      "source": [
        "Now, let's create the selection function"
      ]
    },
    {
      "cell_type": "code",
      "metadata": {
        "id": "CuQAnQqIhhvt"
      },
      "source": [
        "def selection(generation, method = \"Fittest Half\"):\n",
        "  generation[\"Normalized Fitness\"] = sorted([generation[\"Fitness\"][x] / sum(generation[\"Fitness\"]) for x in range(len(generation[\"Fitness\"]))], reverse = True)\n",
        "  generation[\"Cumulative Sum\"] = np.array(generation[\"Normalized Fitness\"]).cumsum()\n",
        "\n",
        "  if method == \"Roulett Wheel\":\n",
        "    selected = []\n",
        "    for x in range(len(generation[\"Individuals\"])//2):\n",
        "      selected.append(roulette(generation[\"Cumulative Sum\"], rand.random()))\n",
        "      while len(set(selected)) != len(selected):\n",
        "        selected[x]= roulette(generation[\"Cumulative Sum\"], rand.random())\n",
        "    selected_individuals = [generation[\"Individuals\"][int(selected[x])] for x in range(len(generation[\"Individuals\"]) // 2)]\n",
        "    selected_fitnesses = [generation[\"Fitness\"][int(selected[x])] for x in range(len(generatio[\"Individuals\"]) // 2)]\n",
        "    selected = {\n",
        "      \"Individuals\": selected_individuals,\n",
        "      \"Fitness\": selected_fitnesses\n",
        "    }\n",
        "\n",
        "  elif method == \"Fittest Half\":\n",
        "    selected_individuals = [generation[\"Individuals\"][-x - 1] for x in range(int(len(generation[\"Individuals\"]) // 2))]\n",
        "    selected_fitnesses = [generation[\"Fitness\"][-x - 1] for x in range(int(len(generation[\"Individuals\"]) // 2))]\n",
        "    selected = {\n",
        "      \"Individuals\": selected_individuals,\n",
        "      \"Fitness\": selected_fitnesses\n",
        "    }\n",
        "  \n",
        "  elif method == \"Random\":\n",
        "    selected_individuals = [generation[\"Individuals\"][np.random.randint(1, len(generation[\"Fitness\"]))] for x in range(int(len(generation[\"Individuals\"]) // 2))]\n",
        "    selected_fitnesses = [generation[\"Fitness\"][-x - 1] for x in range(int(len(generation[\"Individuals\"]) // 2))]\n",
        "    selected = {\n",
        "      \"Individuals\": selected_individuals,\n",
        "      \"Fitness\": selected_fitnesses\n",
        "    }\n",
        "  return selected"
      ],
      "execution_count": 208,
      "outputs": []
    },
    {
      "cell_type": "markdown",
      "metadata": {
        "id": "yeo9SwZUhc1t"
      },
      "source": [
        "## Pairing"
      ]
    },
    {
      "cell_type": "markdown",
      "metadata": {
        "id": "-2_dxzMEnfNd"
      },
      "source": [
        "Pairing and mating are used as a single operation in most genetic algorithm applications, but for creating simpler functions and to be able to used different mating and paring algorithms easily, the two genetic operations are separated in this application. If there is elitism in the genetic algorithm, the elit must be an input to the function as well as the selected individuals."
      ]
    },
    {
      "cell_type": "markdown",
      "metadata": {
        "id": "mpDk1uhFHqlH"
      },
      "source": [
        "* Fittest: the individuals are paired two by two, starting from the fittest individual.\n",
        "* Random: the individuals are paired randomly.\n",
        "* Wieghted Random: the individuals are paired randomly, but fitter individuals have higher chance of been paired together.\n",
        "\n"
      ]
    },
    {
      "cell_type": "code",
      "metadata": {
        "id": "PkPms5D-nm6e"
      },
      "source": [
        "def pairing(elit, selected, method = \"Fittest\"):\n",
        "  individuals = [elit[\"Individuals\"]] + selected[\"Individuals\"]\n",
        "  fitness = [elit[\"Fitness\"]] + selected[\"Fitness\"]\n",
        "\n",
        "  if method == \"Fittest\":\n",
        "    parents = [[individuals[x], individuals[x + 1]] for x in range(len(individuals) // 2)]\n",
        "  elif method == \"Random\":\n",
        "    parents = []\n",
        "    for x in range(len(individuals) // 2):\n",
        "      parents.append([\n",
        "        individuals[rand.randint(0, (len(individuals) - 1))],\n",
        "        individuals[rand.randint(0, len(individuals) - 1)]\n",
        "      ])\n",
        "      while parents[x][0] == parents[x][1]:\n",
        "        parents[x][1] = individuals[rand.randint(0, len(individuals) - 1)]\n",
        "  elif method == \"Weighted Random\":\n",
        "    normalized_fitness = sorted(\n",
        "      [fitness[x] / sum(fitness) for x in range(len(individuals) // 2)],\n",
        "      reverse = True\n",
        "    )\n",
        "    cumulative_sum = np.array(normalized_fitness).cumsum()\n",
        "    parents = []\n",
        "    for x in range(len(individuals) // 2):\n",
        "      parents.append([\n",
        "        individuals[roulette(cumulative_sum, rand.random())],\n",
        "        individuals[roulette(cumulative_sum, rand.random())]\n",
        "      ])\n",
        "      while parents[x][0] == parents[x][1]:\n",
        "        parents[x][1] = individuals[roulette(cumulative_sum, rand.random())]\n",
        "  return parents"
      ],
      "execution_count": 209,
      "outputs": []
    },
    {
      "cell_type": "markdown",
      "metadata": {
        "id": "CBJWtDmJMNYD"
      },
      "source": [
        "## Mating"
      ]
    },
    {
      "cell_type": "markdown",
      "metadata": {
        "id": "D6GIG9czMRMy"
      },
      "source": [
        "For this problem, each pair of individuals will create two offsprings."
      ]
    },
    {
      "cell_type": "markdown",
      "metadata": {
        "id": "msJmx5ksMnFu"
      },
      "source": [
        "* Single Point: the genes after a single point are replaced whith genes os the other parent to create two offsprings.\n",
        "* Two Points: the genes between two point are replaced with the genes of the other parent to create two offsprings."
      ]
    },
    {
      "cell_type": "code",
      "metadata": {
        "id": "zqNyokbjPrw0"
      },
      "source": [
        "def mating(parents, method = \"Single Point\"):\n",
        "  if method == \"Single Point\":\n",
        "    pivot = rand.randint(1, len(parents[0]))\n",
        "    offsprings = [parents[0][0 : pivot] + parents[1][pivot : ]]\n",
        "    offsprings.append(parents[1][0 : pivot] + parents[0][pivot : ])\n",
        "  elif method == \"Two Points\":\n",
        "    pivot1 = rand.randint(1, len(parents[0] - 1))\n",
        "    pivot2 = rand.randint(1, len(parents[0]))\n",
        "    while pivot2 < pivot1:\n",
        "      pivot2 = rand.randint(1, len(parents[0]))\n",
        "    offsprings = [parents[0][0 : pivot1] + parents[1][pivot1 : pivot2] + parents[0][pivot2 : ]]\n",
        "    offsprings.append(offsprings = [parents[1][0 : pivot1] + parents[0][pivot1 : pivot2] + parents[1][pivot2 : ]])\n",
        "  return offsprings"
      ],
      "execution_count": 210,
      "outputs": []
    },
    {
      "cell_type": "markdown",
      "metadata": {
        "id": "NMaT7dkARbAI"
      },
      "source": [
        "## Mutations"
      ]
    },
    {
      "cell_type": "markdown",
      "metadata": {
        "id": "9Hf3jcFERdjR"
      },
      "source": [
        "Random mutations occur in the selected individuals and their offsprings to improve variety of the next generation. If there is elitism in the genetic algorithm, elit individual does not go through random mutations so we do not lose the best solution."
      ]
    },
    {
      "cell_type": "markdown",
      "metadata": {
        "id": "msFyZZ9wRlBi"
      },
      "source": [
        "* Gauss: the gene that goes through mutation is replaced with a number that is generated according to Gauss Distribution around the original gene.\n",
        "* Reset: the original gene is rreplaced with a randomly generated gene."
      ]
    },
    {
      "cell_type": "code",
      "metadata": {
        "id": "L_i7VE92R8PY"
      },
      "source": [
        "def mutation(individual, upper_limit, lower_limit, mutation_rate = 2, method = \"Reset\", standard_deviation = 0.001):\n",
        "  genes = [rand.randint(0, 7)]\n",
        "  for x in range(mutation_rate - 1):\n",
        "    genes.append(rand.randint(0, 7))\n",
        "    while len(set(genes)) < len(genes):\n",
        "      genes[x] = rand.randint(0, 7)\n",
        "  mutated_individual = individual.copy()\n",
        "  if method == \"Gauss\":\n",
        "    for x in range(mutation_rate):\n",
        "      mutated_individual[x] = round(individual[x] + rand.gauss(0, standard_deviation), 1)\n",
        "  elif method == \"Reset\":\n",
        "    for x in range(mutation_rate):\n",
        "      mutated_individual[x] = round(rand.random() * (upper_limit - lower_limit) + lower_limit, 1)\n",
        "  return mutated_individual"
      ],
      "execution_count": 211,
      "outputs": []
    },
    {
      "cell_type": "markdown",
      "metadata": {
        "id": "omvDjH3HUajZ"
      },
      "source": [
        "## Next Generation"
      ]
    },
    {
      "cell_type": "markdown",
      "metadata": {
        "id": "a5b722TkUctY"
      },
      "source": [
        "The next generation is created using the genetic operations we discussed. Elitism can be introduced to the genetic algorithm during the creating of next generation."
      ]
    },
    {
      "cell_type": "code",
      "metadata": {
        "id": "ruYT-iFGUl3n"
      },
      "source": [
        "def next_generation(prev_gen, upper_limit, lower_limit):\n",
        "  elit = {}\n",
        "  next_gen = {}\n",
        "  elit[\"Individuals\"] = prev_gen[\"Individuals\"].pop(-1)\n",
        "  elit[\"Fitness\"] = prev_gen[\"Fitness\"].pop(-1)\n",
        "  selected = selection(prev_gen)\n",
        "  parents = pairing(elit, selected)\n",
        "\n",
        "  offsprings = [[[mating(parents[x]) for x in range(len(parents))][y][z] for z in range(2)] for y in range(len(parents))]\n",
        "  offsprings1 = [offsprings[x][0] for x in range(len(parents))]\n",
        "  offsprings2 = [offsprings[x][1] for x in range(len(parents))]\n",
        "\n",
        "  unmutated = selected[\"Individuals\"] + offsprings1 + offsprings2\n",
        "  mutated = [mutation(unmutated[x], upper_limit, lower_limit) for x in range(len(prev_gen[\"Individuals\"]))]\n",
        "  \n",
        "  unsorted_individuals = mutated + [elit[\"Individuals\"]]\n",
        "  unsorted_next_gen = [fit_with_gene_sum(mutated[x]) for x in range(len(mutated))]\n",
        "  unsorted_fitness = [unsorted_next_gen[x] for x in range(len(prev_gen[\"Fitness\"]))] + [elit[\"Fitness\"]]\n",
        "  sorted_next_gen = sorted(\n",
        "    [[unsorted_individuals[x], unsorted_fitness[x]] for x in range(len(unsorted_individuals))], \n",
        "    key = lambda x: x[1]\n",
        "  )\n",
        "  \n",
        "  next_gen[\"Individuals\"] = [sorted_next_gen[x][0] for x in range(len(sorted_next_gen))]\n",
        "  next_gen[\"Fitness\"] = [sorted_next_gen[x][1] for x in range(len(sorted_next_gen))]\n",
        "\n",
        "  prev_gen[\"Individuals\"].append(elit[\"Individuals\"])\n",
        "  prev_gen[\"Fitness\"].append(elit[\"Fitness\"])\n",
        "  return next_gen\n"
      ],
      "execution_count": 212,
      "outputs": []
    },
    {
      "cell_type": "markdown",
      "metadata": {
        "id": "jSstDDTlXBsV"
      },
      "source": [
        "## Termination Criteria"
      ]
    },
    {
      "cell_type": "markdown",
      "metadata": {
        "id": "sfoaKdeSXEMs"
      },
      "source": [
        "After a generation is created, termination criteria are used to determine if the genetic algorithm should create another generation or should it stop. Different termination criteria can be used at the same time and if the genetic algorithm satisfies one of the criteria the genetic algorithm stops."
      ]
    },
    {
      "cell_type": "markdown",
      "metadata": {
        "id": "jc0fRZ-AXJyd"
      },
      "source": [
        "* Maximum Fitness : checks if the fittest individual in the current generation satisfies our criteria. Using this termiantion method, desired results can be obtained.\n",
        "* Maximum Average Fitness: the average values of the individuals in the current generations can be checked to determine if the current generation satisfies our expectations.\n",
        "* Maximum Number of Generations: limit the maximum number of generations created by the genetic algorithm.\n",
        "* Maximum Similar Fitness Number: Due to elitism best individual in a generation moves on to the next generation without mutating. This individual can be the best individual in the next generation as well. We can limit the number for the same individual to be the best individual as this can be sing that the genetic algorithm got stuck in a local minima.\n"
      ]
    },
    {
      "cell_type": "code",
      "metadata": {
        "id": "HHEDvl1gX8-4"
      },
      "source": [
        "def fitness_similarity_chech(max_fitness, number_of_similarity):\n",
        "  similarity = 0\n",
        "  for n in range(len(max_fitness) - 1):\n",
        "    if max_fitness[n] == max_fitness[n + 1]:\n",
        "      similarity += 1\n",
        "    else:\n",
        "      similarity = 0\n",
        "  return (similarity == number_of_similarity - 1)"
      ],
      "execution_count": 213,
      "outputs": []
    },
    {
      "cell_type": "markdown",
      "metadata": {
        "id": "vVbFElEJYaIW"
      },
      "source": [
        "## Running the Algorithm"
      ]
    },
    {
      "cell_type": "code",
      "metadata": {
        "colab": {
          "base_uri": "https://localhost:8080/"
        },
        "id": "ynZ20nKSYdMg",
        "outputId": "fc7e5f79-89a7-4613-b9cc-24394176e092"
      },
      "source": [
        "# Generations and fitness values will be written to this file\n",
        "result_file = 'GA_Results.txt'\n",
        "\n",
        "# Creating the First Generation\n",
        "def first_generation(pop):\n",
        "  fitness = [fit_with_gene_sum(pop[x]) for x in range(len(pop))]\n",
        "  sorted_fitness = sorted([[pop[x], fitness[x]] for x in range(len(pop))], key = lambda x: x[1])\n",
        "  population = [sorted_fitness[x][0] for x in range(len(sorted_fitness))]\n",
        "  fitness = [sorted_fitness[x][1] for x in range(len(sorted_fitness))]\n",
        "  return {'Individuals': population, 'Fitness': sorted(fitness)}\n",
        "\n",
        "pop = create_population(20, 8, 1, 0)\n",
        "gen_iteration = 0\n",
        "gen = []\n",
        "gen.append(first_generation(pop))\n",
        "\n",
        "fitness_avg = np.array([sum(gen[0]['Fitness']) / len(gen[0]['Fitness'])])\n",
        "fitness_max = np.array([max(gen[0]['Fitness'])])\n",
        "\n",
        "res = open(result_file, 'w')\n",
        "res.write('\\n' + str(gen) + '\\n')\n",
        "res.close()\n",
        "\n",
        "while max(fitness_max) < 7 and max(fitness_avg) < 6 and not fitness_similarity_chech(fitness_max, 50):\n",
        "  gen_iteration += 1\n",
        "\n",
        "  gen.append(next_generation(gen[-1], 1, 0))\n",
        "  fitness_avg = np.append(fitness_avg, sum(gen[-1]['Fitness']) / len(gen[-1]['Fitness']))\n",
        "  fitness_max = np.append(fitness_max, max(gen[-1]['Fitness']))\n",
        "\n",
        "  res = open(result_file, 'a')\n",
        "  res.write('\\n' + str(gen[-1]) + '\\n')\n",
        "  res.close()\n",
        "\n",
        "res = open(result_file, 'r')\n",
        "print(res.read())  \n",
        "res.close()"
      ],
      "execution_count": 223,
      "outputs": [
        {
          "output_type": "stream",
          "text": [
            "\n",
            "[{'Individuals': [[0.4, 0.5, 0.2, 0.3, 0.4, 0.4, 0.0, 0.1], [0.1, 0.2, 0.1, 0.5, 0.2, 0.2, 0.5, 0.8], [0.2, 0.7, 0.5, 0.3, 0.4, 0.1, 0.1, 0.5], [0.2, 0.9, 0.5, 0.9, 0.1, 0.1, 0.0, 0.1], [0.4, 0.1, 0.5, 0.0, 0.0, 0.5, 0.9, 0.9], [0.3, 0.4, 0.0, 0.3, 0.0, 0.8, 0.7, 0.9], [0.7, 0.2, 0.1, 0.2, 0.1, 0.9, 0.3, 0.9], [0.9, 0.4, 0.9, 0.8, 0.0, 0.2, 0.1, 0.1], [0.9, 0.3, 0.7, 0.4, 0.7, 0.2, 0.0, 0.4], [0.5, 0.9, 1.0, 0.1, 0.6, 0.1, 0.4, 0.7], [0.5, 0.8, 0.2, 0.5, 0.7, 0.2, 0.9, 0.6], [0.2, 0.9, 0.9, 0.4, 0.6, 0.4, 0.4, 0.8], [0.3, 0.8, 0.3, 0.9, 1.0, 0.5, 0.8, 0.2], [0.2, 1.0, 0.5, 0.8, 0.7, 0.8, 0.6, 0.3], [0.7, 0.1, 0.7, 0.8, 1.0, 0.4, 0.6, 0.7], [0.8, 0.3, 0.6, 0.2, 0.8, 0.5, 0.8, 1.0], [0.9, 0.9, 0.7, 0.9, 0.8, 0.0, 0.6, 0.3], [0.7, 0.4, 0.9, 0.9, 0.5, 0.1, 0.7, 0.9], [0.7, 0.9, 0.5, 0.5, 0.6, 0.9, 0.5, 0.6], [0.8, 0.8, 0.3, 0.8, 0.2, 1.0, 0.7, 0.8]], 'Fitness': [2.3000000000000003, 2.6, 2.8000000000000003, 2.8000000000000003, 3.3, 3.4, 3.4, 3.4000000000000004, 3.6, 4.3, 4.4, 4.6, 4.800000000000001, 4.8999999999999995, 5.0, 5.0, 5.1, 5.1000000000000005, 5.2, 5.4]}]\n",
            "\n",
            "{'Individuals': [[0.2, 0.2, 0.6, 0.9, 0.8, 0.0, 0.6, 0.3], [0.2, 0.4, 0.7, 0.9, 0.8, 0.0, 0.6, 0.3], [0.3, 0.1, 0.5, 0.5, 0.6, 0.9, 0.5, 0.6], [0.8, 0.2, 0.2, 0.5, 0.7, 0.2, 0.9, 0.6], [0.4, 0.5, 0.7, 0.9, 0.8, 0.0, 0.6, 0.3], [0.2, 0.2, 0.6, 0.2, 0.8, 0.5, 0.8, 1.0], [0.6, 0.1, 0.5, 0.5, 0.6, 0.9, 0.5, 0.6], [0.2, 0.3, 0.9, 0.9, 0.5, 0.1, 0.7, 0.9], [0.6, 0.8, 0.9, 0.9, 0.5, 0.0, 0.6, 0.3], [0.9, 0.4, 0.9, 0.4, 0.6, 0.4, 0.4, 0.8], [0.3, 0.6, 0.6, 0.2, 0.8, 0.5, 0.8, 1.0], [0.8, 0.4, 0.5, 0.5, 0.6, 0.9, 0.5, 0.6], [0.6, 0.7, 0.5, 0.8, 0.7, 0.8, 0.6, 0.3], [0.9, 0.1, 0.7, 0.9, 0.8, 0.0, 0.6, 1.0], [0.3, 0.8, 0.6, 0.2, 0.8, 0.5, 0.8, 1.0], [0.6, 0.5, 0.7, 0.8, 1.0, 0.4, 0.6, 0.7], [1.0, 0.3, 0.5, 0.5, 0.6, 0.9, 0.7, 0.8], [0.8, 0.8, 0.3, 0.8, 0.2, 1.0, 0.7, 0.8], [0.8, 1.0, 0.3, 0.9, 1.0, 0.5, 0.8, 0.2], [0.7, 1.0, 0.9, 0.9, 0.5, 0.1, 0.7, 0.9]], 'Fitness': [3.6, 3.9, 4.0, 4.1, 4.2, 4.3, 4.3, 4.5, 4.6, 4.8, 4.8, 4.8, 4.999999999999999, 5.0, 5.0, 5.3, 5.3, 5.4, 5.5, 5.7]}\n",
            "\n",
            "{'Individuals': [[0.7, 0.1, 0.3, 0.8, 0.2, 1.0, 0.8, 0.2], [0.4, 0.2, 0.5, 0.5, 0.6, 0.9, 0.5, 0.6], [0.4, 0.3, 0.5, 0.8, 0.7, 0.8, 0.6, 0.3], [0.2, 0.3, 0.6, 0.2, 0.8, 0.5, 0.8, 1.0], [0.2, 0.4, 0.5, 0.5, 0.6, 0.9, 0.7, 0.8], [0.4, 0.2, 0.7, 0.9, 0.8, 0.0, 0.6, 1.0], [0.5, 0.4, 0.3, 0.9, 1.0, 0.5, 0.8, 0.2], [0.6, 0.0, 0.9, 0.9, 0.5, 0.1, 0.7, 0.9], [0.1, 0.7, 0.6, 0.2, 0.8, 0.5, 0.8, 1.0], [0.8, 0.6, 0.5, 0.5, 0.6, 0.4, 0.6, 0.7], [0.5, 0.4, 0.3, 0.9, 0.2, 1.0, 0.7, 0.8], [0.8, 0.2, 0.3, 0.8, 0.2, 1.0, 0.7, 0.8], [0.4, 0.6, 0.3, 0.8, 0.2, 1.0, 0.7, 0.8], [0.1, 1.0, 0.3, 0.9, 1.0, 0.5, 0.8, 0.2], [0.5, 0.3, 0.7, 0.8, 1.0, 0.4, 0.6, 0.7], [0.4, 0.9, 0.6, 0.2, 0.8, 0.5, 0.8, 1.0], [0.7, 0.8, 0.3, 0.8, 0.2, 1.0, 0.7, 0.8], [0.6, 0.9, 0.7, 0.8, 1.0, 0.4, 0.6, 0.7], [0.7, 1.0, 0.9, 0.9, 0.5, 0.1, 0.7, 0.9], [0.6, 1.0, 0.7, 0.8, 1.0, 0.4, 0.6, 0.7]], 'Fitness': [4.1000000000000005, 4.2, 4.3999999999999995, 4.4, 4.6, 4.6, 4.6000000000000005, 4.6000000000000005, 4.7, 4.7, 4.8, 4.8, 4.8, 4.800000000000001, 5.0, 5.2, 5.3, 5.7, 5.7, 5.8]}\n",
            "\n",
            "{'Individuals': [[0.5, 0.0, 0.6, 0.2, 0.8, 0.5, 0.6, 0.7], [0.2, 0.0, 0.7, 0.8, 1.0, 0.4, 0.6, 0.7], [0.3, 0.4, 0.3, 0.8, 0.2, 1.0, 0.7, 0.7], [0.1, 0.2, 0.7, 0.8, 0.2, 1.0, 0.7, 0.8], [0.1, 0.4, 0.7, 0.8, 1.0, 0.4, 0.6, 0.7], [0.1, 0.7, 0.6, 0.2, 0.8, 0.5, 0.8, 1.0], [0.3, 0.7, 0.7, 0.8, 0.5, 0.1, 0.7, 0.9], [0.5, 0.8, 0.6, 0.2, 0.2, 1.0, 0.7, 0.8], [0.8, 0.5, 0.3, 0.8, 0.2, 0.5, 0.8, 1.0], [0.5, 0.8, 0.3, 0.9, 1.0, 0.5, 0.8, 0.2], [0.6, 0.0, 0.9, 0.8, 1.0, 0.4, 0.6, 0.7], [0.6, 0.7, 0.3, 0.8, 0.2, 1.0, 0.7, 0.8], [0.9, 0.3, 0.3, 0.9, 0.2, 1.0, 0.7, 0.8], [0.3, 1.0, 0.3, 0.8, 0.2, 1.0, 0.7, 0.8], [0.6, 0.3, 0.7, 0.8, 1.0, 0.1, 0.7, 0.9], [0.8, 0.9, 0.3, 0.8, 0.2, 1.0, 0.7, 0.8], [0.2, 0.7, 0.7, 0.8, 0.8, 0.5, 0.8, 1.0], [1.0, 0.8, 0.9, 0.9, 0.5, 0.1, 0.7, 0.9], [0.6, 1.0, 0.7, 0.8, 1.0, 0.4, 0.6, 0.7], [0.9, 1.0, 0.9, 0.9, 1.0, 0.4, 0.6, 0.7]], 'Fitness': [3.9000000000000004, 4.4, 4.4, 4.5, 4.7, 4.7, 4.7, 4.8, 4.9, 5.0, 5.0, 5.1, 5.1, 5.1000000000000005, 5.1000000000000005, 5.5, 5.5, 5.8, 5.8, 6.3999999999999995]}\n",
            "\n",
            "{'Individuals': [[0.1, 0.3, 0.3, 0.8, 0.2, 1.0, 0.7, 0.8], [0.2, 0.2, 0.9, 0.9, 0.5, 0.1, 0.7, 0.9], [0.4, 0.0, 0.7, 0.8, 0.2, 1.0, 0.7, 0.8], [0.1, 0.5, 0.9, 0.9, 0.5, 0.4, 0.6, 0.7], [0.3, 0.1, 0.7, 0.8, 1.0, 0.4, 0.6, 0.7], [0.8, 0.1, 0.7, 0.9, 0.5, 0.1, 0.7, 0.9], [0.8, 0.2, 0.3, 0.8, 0.2, 1.0, 0.7, 0.8], [0.4, 0.5, 0.9, 0.9, 0.5, 0.1, 0.7, 0.9], [0.5, 0.3, 0.3, 0.8, 0.2, 1.0, 0.8, 1.0], [0.9, 0.3, 0.3, 0.9, 0.2, 1.0, 0.7, 0.8], [0.8, 0.1, 0.7, 0.8, 1.0, 0.1, 0.7, 0.9], [0.2, 0.7, 0.7, 0.8, 1.0, 0.1, 0.7, 0.9], [0.3, 0.6, 0.7, 0.8, 1.0, 0.1, 0.7, 0.9], [0.3, 0.5, 0.7, 0.8, 0.8, 0.5, 0.8, 1.0], [0.6, 1.0, 0.3, 0.8, 0.2, 1.0, 0.7, 0.8], [0.3, 0.9, 0.9, 0.8, 1.0, 0.4, 0.6, 0.7], [0.4, 0.3, 0.7, 0.8, 1.0, 1.0, 0.7, 0.8], [0.7, 0.7, 0.9, 0.8, 1.0, 0.4, 0.6, 0.7], [0.4, 1.0, 0.9, 0.9, 1.0, 0.4, 0.6, 0.7], [0.9, 1.0, 0.9, 0.9, 1.0, 0.4, 0.6, 0.7]], 'Fitness': [4.2, 4.4, 4.6, 4.6, 4.6000000000000005, 4.7, 4.8, 4.9, 4.9, 5.1, 5.1000000000000005, 5.1000000000000005, 5.1000000000000005, 5.3999999999999995, 5.4, 5.6000000000000005, 5.7, 5.8, 5.8999999999999995, 6.3999999999999995]}\n",
            "\n",
            "{'Individuals': [[0.1, 0.2, 0.9, 0.8, 1.0, 0.4, 0.6, 0.7], [0.2, 0.7, 0.3, 0.8, 0.2, 1.0, 0.7, 0.8], [0.8, 0.2, 0.3, 0.8, 0.2, 1.0, 0.7, 0.8], [0.3, 0.1, 0.9, 0.9, 1.0, 0.4, 0.6, 0.7], [0.6, 0.3, 0.7, 0.8, 1.0, 0.1, 0.7, 0.9], [0.1, 0.1, 0.7, 0.8, 1.0, 1.0, 0.7, 0.8], [0.1, 0.7, 0.9, 0.8, 1.0, 0.4, 0.6, 0.7], [0.0, 0.1, 0.9, 0.8, 1.0, 1.0, 0.7, 0.8], [0.1, 0.8, 0.9, 0.8, 1.0, 0.4, 0.6, 0.7], [0.8, 0.1, 0.9, 0.8, 1.0, 0.4, 0.6, 0.7], [0.2, 0.9, 0.7, 0.8, 1.0, 0.1, 0.7, 0.9], [0.7, 0.5, 0.7, 0.8, 1.0, 0.4, 0.6, 0.7], [0.6, 0.4, 0.9, 0.9, 1.0, 0.4, 0.6, 0.7], [1.0, 0.1, 0.7, 0.8, 0.8, 0.5, 0.8, 1.0], [0.7, 0.9, 0.7, 0.8, 1.0, 0.1, 0.7, 0.9], [0.8, 0.5, 0.9, 0.9, 1.0, 0.4, 0.6, 0.7], [0.4, 1.0, 0.9, 0.8, 1.0, 0.4, 0.6, 0.8], [0.4, 0.8, 0.7, 0.8, 1.0, 1.0, 0.6, 0.7], [0.8, 0.8, 0.9, 0.9, 1.0, 0.4, 0.6, 0.7], [0.9, 1.0, 0.9, 0.9, 1.0, 0.4, 0.6, 0.7]], 'Fitness': [4.7, 4.7, 4.8, 4.9, 5.1000000000000005, 5.2, 5.2, 5.3, 5.3, 5.3, 5.300000000000001, 5.4, 5.5, 5.7, 5.8, 5.8, 5.8999999999999995, 6.0, 6.1000000000000005, 6.3999999999999995]}\n",
            "\n",
            "{'Individuals': [[0.5, 0.2, 0.7, 0.8, 1.0, 0.4, 0.6, 0.7], [0.3, 0.2, 0.9, 0.9, 1.0, 0.4, 0.6, 0.7], [0.6, 0.3, 0.7, 0.8, 1.0, 0.1, 0.7, 0.9], [0.7, 0.0, 0.9, 0.9, 1.0, 0.4, 0.6, 0.7], [0.6, 0.4, 0.7, 0.8, 1.0, 0.4, 0.6, 0.7], [0.7, 0.3, 0.7, 0.8, 1.0, 0.1, 0.7, 0.9], [0.8, 0.1, 0.9, 0.9, 1.0, 0.4, 0.6, 0.7], [0.6, 0.5, 0.7, 0.9, 1.0, 0.4, 0.6, 0.7], [0.5, 0.5, 0.9, 0.9, 1.0, 0.4, 0.6, 0.7], [0.9, 0.1, 0.9, 0.8, 1.0, 0.4, 0.6, 0.8], [0.7, 0.1, 0.7, 0.8, 1.0, 1.0, 0.6, 0.7], [1.0, 0.2, 0.7, 0.8, 0.8, 0.5, 0.8, 1.0], [0.5, 0.8, 0.9, 0.8, 1.0, 0.4, 0.6, 0.8], [0.7, 0.7, 0.9, 0.8, 1.0, 0.1, 0.7, 0.9], [0.8, 0.6, 0.9, 0.9, 1.0, 0.4, 0.6, 0.7], [0.6, 0.6, 0.7, 0.8, 1.0, 1.0, 0.6, 0.7], [0.6, 1.0, 0.9, 0.9, 1.0, 0.4, 0.6, 0.7], [0.9, 1.0, 0.9, 0.9, 1.0, 0.4, 0.6, 0.7], [1.0, 1.0, 0.9, 0.8, 1.0, 0.4, 0.6, 0.8], [1.0, 0.9, 0.7, 0.8, 1.0, 1.0, 0.6, 0.7]], 'Fitness': [4.9, 5.0, 5.1000000000000005, 5.2, 5.2, 5.2, 5.4, 5.4, 5.5, 5.5, 5.6, 5.8, 5.8, 5.8, 5.8999999999999995, 6.0, 6.1000000000000005, 6.3999999999999995, 6.5, 6.699999999999999]}\n",
            "\n",
            "{'Individuals': [[0.1, 0.2, 0.9, 0.8, 1.0, 0.4, 0.6, 0.7], [0.1, 0.1, 0.9, 0.8, 1.0, 0.4, 0.6, 0.8], [0.1, 0.3, 0.9, 0.8, 1.0, 0.1, 0.7, 0.9], [0.0, 0.4, 0.9, 0.9, 1.0, 0.4, 0.6, 0.7], [0.1, 0.5, 0.9, 0.9, 1.0, 0.4, 0.6, 0.7], [0.3, 0.4, 0.9, 0.8, 1.0, 0.4, 0.6, 0.8], [0.4, 0.3, 0.7, 0.8, 0.8, 0.5, 0.8, 1.0], [0.1, 0.7, 0.9, 0.9, 1.0, 0.4, 0.6, 0.7], [0.3, 0.6, 0.9, 0.9, 1.0, 0.4, 0.6, 0.7], [0.5, 0.1, 0.7, 0.8, 1.0, 1.0, 0.6, 0.7], [0.3, 0.7, 0.9, 0.9, 1.0, 0.4, 0.6, 0.7], [0.5, 0.3, 0.7, 0.8, 1.0, 1.0, 0.6, 0.7], [0.8, 0.3, 0.9, 0.9, 1.0, 0.4, 0.6, 0.7], [0.8, 0.3, 0.9, 0.8, 1.0, 0.4, 0.6, 0.8], [0.9, 0.3, 0.9, 0.9, 1.0, 0.4, 0.6, 0.7], [0.3, 0.9, 0.7, 0.8, 1.0, 1.0, 0.6, 0.7], [0.7, 0.4, 0.9, 0.8, 1.0, 1.0, 0.6, 0.7], [0.9, 0.8, 0.7, 0.8, 1.0, 1.0, 0.6, 0.7], [1.0, 0.9, 0.7, 0.8, 1.0, 1.0, 0.6, 0.7], [1.0, 0.9, 0.7, 0.8, 1.0, 1.0, 0.6, 0.7]], 'Fitness': [4.7, 4.7, 4.800000000000001, 4.9, 5.1, 5.2, 5.3, 5.3, 5.3999999999999995, 5.3999999999999995, 5.5, 5.6, 5.6, 5.6, 5.7, 6.0, 6.1, 6.5, 6.699999999999999, 6.699999999999999]}\n",
            "\n",
            "{'Individuals': [[0.0, 0.5, 0.9, 0.9, 1.0, 0.4, 0.6, 0.7], [0.8, 0.3, 0.7, 0.8, 1.0, 0.4, 0.6, 0.7], [0.6, 0.2, 0.9, 0.9, 1.0, 0.4, 0.6, 0.7], [0.3, 0.3, 0.7, 0.8, 1.0, 1.0, 0.6, 0.7], [0.2, 0.4, 0.7, 0.8, 1.0, 1.0, 0.6, 0.7], [0.3, 0.1, 0.9, 0.8, 1.0, 1.0, 0.6, 0.7], [0.6, 0.2, 0.7, 0.8, 1.0, 1.0, 0.6, 0.7], [0.6, 0.6, 0.9, 0.8, 1.0, 0.4, 0.6, 0.8], [0.8, 0.1, 0.7, 0.8, 1.0, 1.0, 0.6, 0.7], [1.0, 0.0, 0.7, 0.8, 1.0, 1.0, 0.6, 0.7], [0.7, 0.3, 0.7, 0.8, 1.0, 1.0, 0.6, 0.7], [0.1, 1.0, 0.7, 0.8, 1.0, 1.0, 0.6, 0.7], [0.6, 0.5, 0.7, 0.8, 1.0, 1.0, 0.6, 0.7], [0.8, 0.6, 0.9, 0.9, 1.0, 0.4, 0.6, 0.7], [0.8, 0.7, 0.9, 0.9, 1.0, 0.4, 0.6, 0.7], [0.4, 0.9, 0.7, 0.8, 1.0, 1.0, 0.6, 0.7], [0.4, 0.8, 0.9, 0.8, 1.0, 1.0, 0.6, 0.7], [0.8, 0.5, 0.9, 0.8, 1.0, 1.0, 0.6, 0.7], [1.0, 0.9, 0.7, 0.8, 1.0, 1.0, 0.6, 0.7], [0.9, 1.0, 0.9, 0.8, 1.0, 1.0, 0.6, 0.7]], 'Fitness': [5.0, 5.3, 5.3, 5.3999999999999995, 5.3999999999999995, 5.3999999999999995, 5.6, 5.7, 5.7, 5.8, 5.8, 5.8999999999999995, 5.8999999999999995, 5.8999999999999995, 6.0, 6.1, 6.2, 6.3, 6.699999999999999, 6.8999999999999995]}\n",
            "\n",
            "{'Individuals': [[0.1, 0.0, 0.7, 0.8, 1.0, 1.0, 0.6, 0.7], [0.0, 0.5, 0.7, 0.8, 1.0, 1.0, 0.6, 0.7], [0.4, 0.1, 0.7, 0.8, 1.0, 1.0, 0.6, 0.7], [0.9, 0.0, 0.9, 0.9, 1.0, 0.4, 0.6, 0.7], [0.1, 0.8, 0.9, 0.9, 1.0, 0.4, 0.6, 0.7], [0.8, 0.4, 0.7, 0.9, 1.0, 0.4, 0.6, 0.7], [0.8, 0.4, 0.9, 0.9, 1.0, 0.4, 0.6, 0.7], [0.1, 0.8, 0.7, 0.8, 1.0, 1.0, 0.6, 0.7], [0.8, 0.2, 0.7, 0.8, 1.0, 1.0, 0.6, 0.7], [0.4, 0.4, 0.9, 0.8, 1.0, 1.0, 0.6, 0.7], [0.2, 0.7, 0.9, 0.8, 1.0, 1.0, 0.6, 0.7], [0.4, 0.7, 0.7, 0.8, 1.0, 1.0, 0.6, 0.7], [0.4, 0.8, 0.9, 0.8, 1.0, 1.0, 0.6, 0.7], [0.7, 0.5, 0.9, 0.8, 1.0, 1.0, 0.6, 0.7], [0.9, 0.3, 0.9, 0.8, 1.0, 1.0, 0.6, 0.7], [0.6, 0.9, 0.7, 0.8, 1.0, 1.0, 0.6, 0.7], [0.6, 1.0, 0.7, 0.8, 1.0, 1.0, 0.6, 0.7], [1.0, 0.4, 0.9, 0.8, 1.0, 1.0, 0.6, 0.7], [1.0, 0.7, 0.9, 0.8, 1.0, 1.0, 0.6, 0.7], [0.9, 1.0, 0.9, 0.8, 1.0, 1.0, 0.6, 0.7]], 'Fitness': [4.9, 5.3, 5.3, 5.4, 5.4, 5.5, 5.7, 5.7, 5.8, 5.8, 5.8999999999999995, 5.8999999999999995, 6.2, 6.2, 6.2, 6.3, 6.3999999999999995, 6.3999999999999995, 6.7, 6.8999999999999995]}\n",
            "\n",
            "{'Individuals': [[0.0, 0.3, 0.9, 0.8, 1.0, 1.0, 0.6, 0.7], [0.1, 0.4, 0.7, 0.8, 1.0, 1.0, 0.6, 0.7], [0.6, 0.1, 0.7, 0.8, 1.0, 1.0, 0.6, 0.7], [0.6, 0.3, 0.7, 0.8, 1.0, 1.0, 0.6, 0.7], [0.8, 0.2, 0.7, 0.8, 1.0, 1.0, 0.6, 0.7], [0.2, 0.8, 0.7, 0.8, 1.0, 1.0, 0.6, 0.7], [0.7, 0.2, 0.9, 0.8, 1.0, 1.0, 0.6, 0.7], [0.1, 0.9, 0.9, 0.8, 1.0, 1.0, 0.6, 0.7], [0.2, 0.8, 0.9, 0.8, 1.0, 1.0, 0.6, 0.7], [1.0, 0.1, 0.9, 0.8, 1.0, 1.0, 0.6, 0.7], [0.6, 0.5, 0.9, 0.8, 1.0, 1.0, 0.6, 0.7], [0.8, 0.4, 0.9, 0.8, 1.0, 1.0, 0.6, 0.7], [0.4, 0.9, 0.9, 0.8, 1.0, 1.0, 0.6, 0.7], [0.8, 0.5, 0.9, 0.8, 1.0, 1.0, 0.6, 0.7], [0.4, 0.9, 0.9, 0.8, 1.0, 1.0, 0.6, 0.7], [0.7, 0.9, 0.7, 0.8, 1.0, 1.0, 0.6, 0.7], [0.7, 0.8, 0.9, 0.8, 1.0, 1.0, 0.6, 0.7], [0.9, 0.9, 0.7, 0.8, 1.0, 1.0, 0.6, 0.7], [0.8, 0.9, 0.9, 0.8, 1.0, 1.0, 0.6, 0.7], [0.9, 1.0, 0.9, 0.8, 1.0, 1.0, 0.6, 0.7]], 'Fitness': [5.3, 5.3, 5.5, 5.7, 5.8, 5.8, 5.8999999999999995, 6.0, 6.0, 6.1, 6.1, 6.2, 6.3, 6.3, 6.3, 6.3999999999999995, 6.5, 6.6, 6.7, 6.8999999999999995]}\n",
            "\n"
          ],
          "name": "stdout"
        }
      ]
    }
  ]
}