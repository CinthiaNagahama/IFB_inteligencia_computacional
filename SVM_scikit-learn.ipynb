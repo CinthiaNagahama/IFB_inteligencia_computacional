{
  "nbformat": 4,
  "nbformat_minor": 0,
  "metadata": {
    "colab": {
      "name": "SVM_scikit-learn.ipynb",
      "provenance": [],
      "collapsed_sections": [],
      "authorship_tag": "ABX9TyMAHGCLRd6pHj2Ip3fKjvn1",
      "include_colab_link": true
    },
    "kernelspec": {
      "name": "python3",
      "display_name": "Python 3"
    },
    "language_info": {
      "name": "python"
    }
  },
  "cells": [
    {
      "cell_type": "markdown",
      "metadata": {
        "id": "view-in-github",
        "colab_type": "text"
      },
      "source": [
        "<a href=\"https://colab.research.google.com/github/CinthiaNagahama/inteligencia_computacional/blob/main/SVM_scikit-learn.ipynb\" target=\"_parent\"><img src=\"https://colab.research.google.com/assets/colab-badge.svg\" alt=\"Open In Colab\"/></a>"
      ]
    },
    {
      "cell_type": "markdown",
      "metadata": {
        "id": "xEq23--F1DTe"
      },
      "source": [
        "# Creating a **Support Vector Machine** (SVM) using Python scikit-learn <br>\n",
        "\n",
        "\n",
        "---\n",
        "\n",
        "\n",
        "Tutorial link: <a>https://www.datacamp.com/community/tutorials/svm-classification-scikit-learn-python<a>"
      ]
    },
    {
      "cell_type": "markdown",
      "metadata": {
        "id": "5tRF2GKu1moU"
      },
      "source": [
        "We'll be using the cancer dataset. This dataset is computed from a digitized image of a fine needle aspirate (FNA) of a breast mass. They describe characteristics of the cell nuclei present in the image.\n",
        "\n",
        "The dataset comprises 30 features:\n",
        "  * mean radius,\n",
        "  * mean texture, \n",
        "  * mean perimeter,\n",
        "  * mean area, \n",
        "  * mean smoothness,\n",
        "  * mean compactness,\n",
        "  * mean concavity,\n",
        "  * mean concave points,\n",
        "  * mean symmetry,\n",
        "  * mean fractal dimension,\n",
        "  * radius error,\n",
        "  * texture error,\n",
        "  * perimeter error,\n",
        "  * area error,\n",
        "  * smoothness error,\n",
        "  * compactness error,\n",
        "  * concavity error,\n",
        "  * concave points error,\n",
        "  * symmetry error,\n",
        "  * fractal dimension error,\n",
        "  * worst radius,\n",
        "  * worst texture,\n",
        "  * worst perimeter,\n",
        "  * worst area,\n",
        "  * worst smoothness,\n",
        "  * worst compactness,\n",
        "  * worst concavity,\n",
        "  * worst concave points,\n",
        "  * worst symmetry, and\n",
        "  * worst fractal dimension <br>\n",
        "\n",
        "and a target:\n",
        "  * type of cancer.\n",
        "\n",
        "This dataset has two types of cancer classes: malignant and benign and we will build a model to classify the type of cancer."
      ]
    },
    {
      "cell_type": "markdown",
      "metadata": {
        "id": "XvhzRlTF3hCK"
      },
      "source": [
        "# Loading the data"
      ]
    },
    {
      "cell_type": "code",
      "metadata": {
        "id": "c-BSKjO70Hhw"
      },
      "source": [
        "# Import scikit-learn datasets library\n",
        "from sklearn import datasets\n",
        "\n",
        "# Load dataset\n",
        "cancer_set = datasets.load_breast_cancer()"
      ],
      "execution_count": 2,
      "outputs": []
    },
    {
      "cell_type": "markdown",
      "metadata": {
        "id": "FHtbdYex35c3"
      },
      "source": [
        "# Understanding the dataset"
      ]
    },
    {
      "cell_type": "code",
      "metadata": {
        "id": "RlP7gh-H4AGP"
      },
      "source": [
        "# Print the names of the features\n",
        "print(\"Features: \", cancer_set.feature_names)\n",
        "\n",
        "# Print the label type of cancer('malignant' 'benign')\n",
        "print(\"Labels: \", cancer_set.target_names)\n",
        "\n",
        "# Print the cancer top 5 data and labels (0 : 'malignant' | 1 : 'benign')\n",
        "print(\"Data: \", cancer_set.data[0:5], \" | \", cancer_set.target[0:5]) "
      ],
      "execution_count": null,
      "outputs": []
    },
    {
      "cell_type": "markdown",
      "metadata": {
        "id": "htJ2O6uB5OD2"
      },
      "source": [
        "# Splitting the data"
      ]
    },
    {
      "cell_type": "code",
      "metadata": {
        "id": "_gm4Wrk65Nu-"
      },
      "source": [
        "# Import train_test_split function\n",
        "from sklearn.model_selection import train_test_split\n",
        "\n",
        "# Split data set into training set (70%) and testing set (30%)\n",
        "data_train, data_test, target_train, target_test = train_test_split(cancer_set.data, cancer_set.target, test_size=0.3, random_state=109)"
      ],
      "execution_count": 7,
      "outputs": []
    },
    {
      "cell_type": "markdown",
      "metadata": {
        "id": "YnZDs6e46kzl"
      },
      "source": [
        "# Building the SVM"
      ]
    },
    {
      "cell_type": "code",
      "metadata": {
        "id": "TttWt-r46ko2"
      },
      "source": [
        "# Import SVM model\n",
        "from sklearn import svm\n",
        "\n",
        "# Create a SVM Classifier\n",
        "clf = svm.SVC(kernel = \"linear\")\n",
        "\n",
        "# Train the model using the training set\n",
        "clf.fit(data_train, target_train)\n",
        "\n",
        "# Predict the response for test dataset\n",
        "target_pred = clf.predict(data_test)"
      ],
      "execution_count": 11,
      "outputs": []
    },
    {
      "cell_type": "markdown",
      "metadata": {
        "id": "9ZMykG-17crI"
      },
      "source": [
        "# Evaluating the model"
      ]
    },
    {
      "cell_type": "code",
      "metadata": {
        "colab": {
          "base_uri": "https://localhost:8080/"
        },
        "id": "54XVAUpk7cjY",
        "outputId": "b01891df-ea0e-4b38-a162-870c333839fb"
      },
      "source": [
        "# Import scikit-learn metrics module for accuracy calculation\n",
        "from sklearn import metrics\n",
        "\n",
        "# Check how often is the classifier correct\n",
        "print(\"Accuracy: \", metrics.accuracy_score(target_test, target_pred))\n",
        "\n",
        "# Check the ability of the classifier not to label as positive a sample that is negative\n",
        "print(\"Precision: \", metrics.precision_score(target_test, target_pred))\n",
        "\n",
        "# Check the ability of the classifier to find all the positive samples\n",
        "print(\"Recall: \", metrics.recall_score(target_test, target_pred))"
      ],
      "execution_count": 14,
      "outputs": [
        {
          "output_type": "stream",
          "text": [
            "Accuracy:  0.9649122807017544\n",
            "Precision:  0.9811320754716981\n",
            "Recall:  0.9629629629629629\n"
          ],
          "name": "stdout"
        }
      ]
    }
  ]
}